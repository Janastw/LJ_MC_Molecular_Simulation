{
 "cells": [
  {
   "cell_type": "code",
   "execution_count": 6,
   "metadata": {},
   "outputs": [
    {
     "name": "stdout",
     "output_type": "stream",
     "text": [
      "2.0\n"
     ]
    }
   ],
   "source": [
    "# Density calculation\n",
    "\n",
    "def calculate_density(number_of_molecules, box_length):\n",
    "\n",
    "    volume = box_length ** 3\n",
    "    density = number_of_molecules / volume\n",
    "\n",
    "    return density\n",
    "\n",
    "box_length = 10\n",
    "number_of_molecules = 2000\n",
    "print(calculate_density(number_of_molecules, box_length))\n",
    "\n"
   ]
  },
  {
   "cell_type": "code",
   "execution_count": 7,
   "metadata": {},
   "outputs": [
    {
     "name": "stdout",
     "output_type": "stream",
     "text": [
      "200.0\n"
     ]
    }
   ],
   "source": [
    "# Solute's contribution to final volume\n",
    "\n",
    "def calculate_solute_contribution(C1, V1, C2):\n",
    "\n",
    "    V2 = C1 * V1 / C2\n",
    "    return V2\n",
    "\n",
    "# Not supposed to be this?\n",
    "# V2_contribution = V2 - V1\n",
    "\n",
    "\n",
    "C1 = 100 # Moles\n",
    "\n",
    "V1 = 100 # Volume units\n",
    "\n",
    "C2 = 50 # Molar of Final Solution\n",
    "\n",
    "print (calculate_solute_contribution(C1, V1, C2))\n",
    "\n"
   ]
  },
  {
   "cell_type": "code",
   "execution_count": null,
   "metadata": {},
   "outputs": [],
   "source": []
  }
 ],
 "metadata": {
  "kernelspec": {
   "display_name": "msse-python",
   "language": "python",
   "name": "python3"
  },
  "language_info": {
   "codemirror_mode": {
    "name": "ipython",
    "version": 3
   },
   "file_extension": ".py",
   "mimetype": "text/x-python",
   "name": "python",
   "nbconvert_exporter": "python",
   "pygments_lexer": "ipython3",
   "version": "3.11.8"
  }
 },
 "nbformat": 4,
 "nbformat_minor": 2
}
