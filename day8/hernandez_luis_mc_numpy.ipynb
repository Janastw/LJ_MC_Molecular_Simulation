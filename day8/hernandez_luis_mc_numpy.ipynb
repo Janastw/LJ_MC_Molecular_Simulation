{
 "cells": [
  {
   "cell_type": "code",
   "execution_count": 161,
   "metadata": {},
   "outputs": [],
   "source": [
    "import math\n",
    "import random\n",
    "import numpy as np"
   ]
  },
  {
   "cell_type": "code",
   "execution_count": 162,
   "metadata": {},
   "outputs": [],
   "source": [
    "def calculate_distance(coord1, coord2, box_length=None):\n",
    "    dim_dist = coord2 - coord1\n",
    "\n",
    "    if box_length:\n",
    "        dim_dist = dim_dist - box_length * np.round(dim_dist / box_length)\n",
    "    \n",
    "    if dim_dist.ndim < 2:\n",
    "        dim_dist = dim_dist.reshape(1, -1)\n",
    "\n",
    "    dim_dist_sq = dim_dist ** 2\n",
    "    dim_dist_sum = dim_dist_sq.sum(axis=1)\n",
    "    distance = np.sqrt(dim_dist_sum)\n",
    "\n",
    "    return distance"
   ]
  },
  {
   "cell_type": "code",
   "execution_count": 163,
   "metadata": {},
   "outputs": [],
   "source": [
    "def calculate_LJ(r_ij):\n",
    "    \"\"\"\n",
    "    Calculate the Lennard Jones energy of a two particles given their distance from each other.\n",
    "\n",
    "    Parameters\n",
    "    ----------\n",
    "    r_ij : np.array\n",
    "        A numpy array consisting of distance between two particles.\n",
    "\n",
    "    Returns\n",
    "    -------\n",
    "    pairwise_energy : np.array\n",
    "        A numpy array consisting of pairwise energies.\n",
    "    \"\"\"\n",
    "    r6_term = np.power(1/r_ij, 6)\n",
    "    r12_term = np.power(r6_term, 2)\n",
    "    pairwise_energy = 4 * (r12_term - r6_term)\n",
    "    pairwise_energy\n",
    "    return pairwise_energy"
   ]
  },
  {
   "cell_type": "code",
   "execution_count": 164,
   "metadata": {},
   "outputs": [],
   "source": [
    "def calculate_total_energy(coordinates, box_length, cutoff):\n",
    "    \"\"\"\n",
    "    Calculate the total Lennard Jones energy of a system of particles.\n",
    "\n",
    "    Parameters\n",
    "    ----------\n",
    "    coordinates : list\n",
    "        Nested list containing particle coordinates.\n",
    "\n",
    "    Returns\n",
    "    -------\n",
    "    total_energy : float\n",
    "        The total pairwise Lennard Jones energy of the system of particles.\n",
    "    \"\"\"\n",
    "\n",
    "    # total_energy = []\n",
    "    # total_energy_np = np.array(total_energy)\n",
    "\n",
    "    # num_atoms = len(coordinates)\n",
    "\n",
    "    # for i in range(num_atoms):\n",
    "    #     for j in range(i + 1, num_atoms):\n",
    "\n",
    "    #         dist_ij = calculate_distance(\n",
    "    #             coordinates[i], coordinates[j], box_length=box_length\n",
    "    #         )\n",
    "\n",
    "    #         if dist_ij < cutoff:\n",
    "    #             interaction_energy = calculate_LJ(dist_ij)\n",
    "    #             total_energy_np = np.concatenate((total_energy_np, interaction_energy), axis=0)\n",
    "                \n",
    "\n",
    "    # system_energy = total_energy_np.sum(axis=0)\n",
    "    # return system_energy\n",
    "    total_energy = 0\n",
    "\n",
    "    num_atoms = len(coordinates)\n",
    "    copy_coordinates = coordinates[1:]\n",
    "\n",
    "    all_distances = np.array([])\n",
    "    short_list = np.array([])\n",
    "\n",
    "    for i in range(num_atoms):\n",
    "        dist_ij = calculate_distance(\n",
    "            copy_coordinates, coordinates[i], box_length=box_length\n",
    "        )\n",
    "        all_distances = np.concatenate((all_distances, dist_ij), axis=0)\n",
    "        copy_coordinates = copy_coordinates[1:]\n",
    "            \n",
    "    short_list = all_distances[(cutoff > all_distances)]\n",
    "    short_list = short_list[(0 < short_list)]\n",
    "    all_valid_energies = calculate_LJ(short_list)\n",
    "    total_energy = all_valid_energies.sum(axis=0)\n",
    "\n",
    "    return total_energy"
   ]
  },
  {
   "cell_type": "code",
   "execution_count": 165,
   "metadata": {},
   "outputs": [],
   "source": [
    "def read_xyz(filepath):\n",
    "    \"\"\"\n",
    "    Reads coordinates from an xyz file.\n",
    "    \n",
    "    Parameters\n",
    "    ----------\n",
    "    filepath : str\n",
    "       The path to the xyz file to be processed.\n",
    "       \n",
    "    Returns\n",
    "    -------\n",
    "    atomic_coordinates : list\n",
    "        A two dimensional list containing atomic coordinates\n",
    "\n",
    "    \"\"\"\n",
    "    \n",
    "    with open(filepath) as f:\n",
    "        box_length = float(f.readline().split()[0])\n",
    "        num_atoms = float(f.readline())\n",
    "        coordinates = f.readlines()\n",
    "    \n",
    "    atomic_coordinates = []\n",
    "    \n",
    "    for atom in coordinates:\n",
    "        split_atoms = atom.split()\n",
    "        \n",
    "        float_coords = []\n",
    "        \n",
    "        # We split this way to get rid of the atom label.\n",
    "        for coord in split_atoms[1:]:\n",
    "            float_coords.append(float(coord))\n",
    "            \n",
    "        atomic_coordinates.append(float_coords)\n",
    "        \n",
    "    \n",
    "    return np.array(atomic_coordinates), box_length"
   ]
  },
  {
   "cell_type": "code",
   "execution_count": 166,
   "metadata": {},
   "outputs": [],
   "source": [
    "def calculate_tail_correction(n_particles, box_length, cutoff):\n",
    "    '''\n",
    "    Calculates the tail correction to the internal energy found through the Lennard Jones Equation.\n",
    "    \n",
    "    Parameters\n",
    "    ----------\n",
    "    n_particles : int\n",
    "        number of particles created for the simulation\n",
    "    box_length : float\n",
    "        length of the sides of the box created for the simulation\n",
    "    cutoff : float\n",
    "        cut-off distance\n",
    "       \n",
    "    Returns\n",
    "    -------\n",
    "    U_lrc : float\n",
    "        this is the number corresponding with the energy of the particles outside of the defined cut-off limit    \n",
    "    '''\n",
    "\n",
    "    volume_of_box = math.pow((box_length),3)\n",
    "    rc3_term = math.pow((1/cutoff),3)\n",
    "    rc9_term = math.pow((rc3_term),3)\n",
    "    inside_term = (((1/3)*rc9_term)-rc3_term)\n",
    "    U_lrc = (8*math.pi*math.pow((n_particles),2)/(3*volume_of_box))*inside_term\n",
    "    return U_lrc"
   ]
  },
  {
   "cell_type": "code",
   "execution_count": 167,
   "metadata": {},
   "outputs": [],
   "source": [
    "def accept_or_reject(delta_e, beta):\n",
    "    \"\"\"Accept or reject based on an energy and beta (inverse temperature) measurement.\n",
    "    \n",
    "    Parameters\n",
    "    ----------\n",
    "    delta_e : float\n",
    "        An energy change in reduced units\n",
    "    beta: float\n",
    "        Inverse temperature\n",
    "        \n",
    "    Returns\n",
    "    -------\n",
    "    bool\n",
    "        True to accept move Flase to reject\n",
    "    \"\"\"\n",
    "    if delta_e <= 0.0:\n",
    "        accept = True\n",
    "    else:\n",
    "        random__number = random.random()\n",
    "        p_acc = math.exp(-delta_e*beta)\n",
    "\n",
    "        if random__number < p_acc:\n",
    "            accept = True\n",
    "        else:\n",
    "            accept = False\n",
    "    return accept"
   ]
  },
  {
   "cell_type": "code",
   "execution_count": 168,
   "metadata": {},
   "outputs": [],
   "source": [
    "def calculate_pair_energy(coordinates, i_particle, box_length, cutoff):\n",
    "\n",
    "    \"\"\"\n",
    "    Calculate the interaction energy of a particle with its environment (all other particles in the system).\n",
    "\n",
    "    Parameters\n",
    "    ----------\n",
    "    coordinates: list\n",
    "        The coordinates for all particles in the system\n",
    "    i_particle: int\n",
    "        The particle index for which to calculate the energy\n",
    "    cutoff: float\n",
    "        The simulation cutoff. Beyond this distance, the interactions are not calculated\n",
    "\n",
    "    Returns\n",
    "    -------\n",
    "    e_total: float\n",
    "        The pairwise interaction energy of the i_th particle with all other particles\n",
    "    \"\"\"\n",
    "    e_total = 0.0\n",
    "    i_position = coordinates[i_particle]\n",
    "    \n",
    "    # remove the particle of interest\n",
    "    copy_coordinates = np.delete(coordinates, i_particle, 0)\n",
    "    \n",
    "    dist_ij = calculate_distance(\n",
    "            copy_coordinates, i_position, box_length=box_length\n",
    "        )\n",
    "    # remove distances below cutoff\n",
    "    short_list = dist_ij[(cutoff > dist_ij)]\n",
    "    # calculate_LJ for distances\n",
    "    all_valid_energies = calculate_LJ(short_list)\n",
    "    # sum energies\n",
    "    e_total = all_valid_energies.sum(axis=0)\n",
    "\n",
    "    return e_total"
   ]
  },
  {
   "cell_type": "code",
   "execution_count": 184,
   "metadata": {},
   "outputs": [],
   "source": [
    "# create a function called run_simulation that takes in simulation parameters and runs the simulation.\n",
    "def run_simulation(coordinates, box_length, cutoff, reduced_temperature, num_steps, max_displacement=0.1, freq=1000):\n",
    "\n",
    "    # # Simulation Parameters\n",
    "    # reduced_temperature = 0.9\n",
    "    # num_steps = 5000\n",
    "    # max_displacement = 0.1\n",
    "    # cutoff = 3.0\n",
    "\n",
    "    # freq = 1000\n",
    "\n",
    "    # Calculated quantities\n",
    "    beta = 1 / reduced_temperature\n",
    "\n",
    "    # # Get initial coordinates (initial system configuration)\n",
    "    # coordinates, box_length = read_xyz(\"../data/sample_config1.txt\")\n",
    "    num_particles = len(coordinates)\n",
    "\n",
    "    # delta_energy = 0\n",
    "\n",
    "    total_energy = calculate_total_energy(coordinates, box_length, cutoff)\n",
    "    total_energy += calculate_tail_correction(num_particles, box_length, cutoff)\n",
    "    # print(total_energy)\n",
    "\n",
    "    steps = []\n",
    "    energies = []\n",
    "    for step in range(num_steps):\n",
    "\n",
    "        # 1. Randomly pick one of N particles\n",
    "        random_particle = random.randrange(num_particles)\n",
    "\n",
    "        # 2. Calculate the interaction energy of the selected particle with the system and store this value.\n",
    "        current_energy = calculate_pair_energy(coordinates, random_particle, box_length, cutoff)\n",
    "        # print(current_energy, step, random_particle)\n",
    "\n",
    "\n",
    "        # 3. Generate a random x, y, z displacement\n",
    "        x_rand = random.uniform(-max_displacement, max_displacement)\n",
    "        y_rand = random.uniform(-max_displacement, max_displacement)\n",
    "        z_rand = random.uniform(-max_displacement, max_displacement)\n",
    "\n",
    "        # 4. Modify the coordinate of Nth particle by the generated displacements.\n",
    "        coordinates[random_particle][0] += x_rand\n",
    "        coordinates[random_particle][1] += y_rand\n",
    "        coordinates[random_particle][2] += z_rand\n",
    "\n",
    "        # 5. Calculate the interaction energy of the selected particle with the system and store this value (using the new position).\n",
    "        proposed_energy = calculate_pair_energy(coordinates, random_particle, box_length, cutoff)\n",
    "        # print(proposed_energy, step, random_particle)\n",
    "\n",
    "        # 6. Calculate the change in energy and decide to accept or reject the change.\n",
    "        delta_e = proposed_energy - current_energy\n",
    "\n",
    "        accept = accept_or_reject(delta_e, beta)\n",
    "\n",
    "        # 7. If accept, keep particle movement. If reject, move particle back.\n",
    "        if accept:\n",
    "            total_energy += delta_e\n",
    "        else:\n",
    "            # Move is not accepted, roll back coordinates\n",
    "            coordinates[random_particle][0] -= x_rand\n",
    "            coordinates[random_particle][1] -= y_rand\n",
    "            coordinates[random_particle][2] -= z_rand\n",
    "\n",
    "        # 8. Print the energy if the step is a multiple of freq\n",
    "        if step % freq == 0:\n",
    "            print (step, total_energy/num_particles)\n",
    "            steps.append(step)\n",
    "            energies.append(total_energy/num_particles)\n",
    "    return steps, energies\n"
   ]
  },
  {
   "cell_type": "code",
   "execution_count": 185,
   "metadata": {},
   "outputs": [
    {
     "name": "stdout",
     "output_type": "stream",
     "text": [
      "<class 'numpy.ndarray'>\n"
     ]
    }
   ],
   "source": [
    "config_file1 = \"../data/sample_config1.txt\"\n",
    "\n",
    "coords, box_length = read_xyz(config_file1)\n",
    "print(type(coords))"
   ]
  },
  {
   "cell_type": "code",
   "execution_count": 186,
   "metadata": {},
   "outputs": [
    {
     "data": {
      "text/plain": [
       "-4351.540194543867"
      ]
     },
     "execution_count": 186,
     "metadata": {},
     "output_type": "execute_result"
    }
   ],
   "source": [
    "calculate_total_energy(coords, box_length,3)"
   ]
  },
  {
   "cell_type": "code",
   "execution_count": 187,
   "metadata": {},
   "outputs": [
    {
     "data": {
      "text/plain": [
       "-10.626301555485691"
      ]
     },
     "execution_count": 187,
     "metadata": {},
     "output_type": "execute_result"
    }
   ],
   "source": [
    "calculate_pair_energy(coords, 12, box_length, 3)"
   ]
  },
  {
   "cell_type": "code",
   "execution_count": 188,
   "metadata": {},
   "outputs": [
    {
     "name": "stdout",
     "output_type": "stream",
     "text": [
      "0 -5.6865952068887795\n",
      "1000 -5.700102641160268\n",
      "2000 -5.662526016085257\n",
      "3000 -5.644721977047121\n",
      "4000 -5.673277779476794\n",
      "5000 -5.6663138921049745\n",
      "6000 -5.659613595251009\n",
      "7000 -5.685198509212528\n",
      "8000 -5.672123734752076\n",
      "9000 -5.659381889844402\n"
     ]
    },
    {
     "data": {
      "text/plain": [
       "([0, 1000, 2000, 3000, 4000, 5000, 6000, 7000, 8000, 9000],\n",
       " [-5.6865952068887795,\n",
       "  -5.700102641160268,\n",
       "  -5.662526016085257,\n",
       "  -5.644721977047121,\n",
       "  -5.673277779476794,\n",
       "  -5.6663138921049745,\n",
       "  -5.659613595251009,\n",
       "  -5.685198509212528,\n",
       "  -5.672123734752076,\n",
       "  -5.659381889844402])"
      ]
     },
     "execution_count": 188,
     "metadata": {},
     "output_type": "execute_result"
    }
   ],
   "source": [
    "run_simulation(coords, box_length, 3, 0.9, 10000, max_displacement=0.1, freq=1000)"
   ]
  }
 ],
 "metadata": {
  "kernelspec": {
   "display_name": "msse-python",
   "language": "python",
   "name": "python3"
  },
  "language_info": {
   "codemirror_mode": {
    "name": "ipython",
    "version": 3
   },
   "file_extension": ".py",
   "mimetype": "text/x-python",
   "name": "python",
   "nbconvert_exporter": "python",
   "pygments_lexer": "ipython3",
   "version": "3.11.8"
  }
 },
 "nbformat": 4,
 "nbformat_minor": 2
}
