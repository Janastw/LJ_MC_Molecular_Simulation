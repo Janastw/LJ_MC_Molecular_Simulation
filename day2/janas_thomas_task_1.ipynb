{
 "cells": [
  {
   "cell_type": "code",
   "execution_count": 115,
   "metadata": {},
   "outputs": [],
   "source": [
    "# visualization using matplotlib\n",
    "# matplotlib is the only library not in the PSL that you can use.\n",
    "import matplotlib.pyplot as plt\n",
    "import math\n",
    "import random\n",
    "\n",
    "def monte_carlo_calculation(n_samples):\n",
    "    \"\"\"\n",
    "    Monte Carlo Calculation to measurethe area under the curve.\n",
    "\n",
    "    Parameters\n",
    "    ----------\n",
    "    n_samples : float\n",
    "        The number of random points to be generated.\n",
    "\n",
    "    Returns\n",
    "    -------\n",
    "    my_pi : float\n",
    "        The estimated area under the curve using the Monte Carlo calculation of a circle with radius = 1\n",
    "    \"\"\"\n",
    "\n",
    "    # create a figure\n",
    "    # fig = plt.figure(figsize=(4, 4)) --- Code commented out due to elongated processing times with high sample sizes\n",
    "    # ax = fig.add_subplot(111)        --- Code commented out due to elongated processing times with high sample sizes\n",
    "\n",
    "\n",
    "    # define total number points I will generate\n",
    "\n",
    "    # define variable for count\n",
    "    num_inside = 0\n",
    "\n",
    "    # Create a for loop for generating n_samples number of points\n",
    "    for i in range(n_samples):\n",
    "\n",
    "        # Generate a random point between 0 adn 1 for our x value\n",
    "        x = random.random()\n",
    "        \n",
    "        # Generate a random point between 0 and 1 for our y value\n",
    "        y = random.random()\n",
    "\n",
    "        # Calculate the distance of the point from the origin\n",
    "        distance = math.sqrt( x**2 + y**2)\n",
    "\n",
    "        # Increase the count if distance is less than 1.\n",
    "        if distance < 1:\n",
    "            num_inside += 1\n",
    "        #     ax.plot(x, y, \"ob\")    --- Code commented out due to elongated processing times with high sample sizes\n",
    "        # else:                      --- Code commented out due to elongated processing times with high sample sizes\n",
    "        #     ax.plot(x, y, \"r*\")    --- Code commented out due to elongated processing times with high sample sizes\n",
    "\n",
    "\n",
    "    # Calculate integral\n",
    "    integral = num_inside / n_samples\n",
    "\n",
    "    my_pi = 4 * integral\n",
    "\n",
    "    print(f\"Samples size: {n_samples}\\nActual number: {my_pi}\")\n",
    "    return my_pi"
   ]
  },
  {
   "cell_type": "code",
   "execution_count": 116,
   "metadata": {},
   "outputs": [],
   "source": [
    "# Code to calculate percent error\n",
    "def percent_error(estimated_number, actual_number):\n",
    "    \"\"\"\n",
    "    The percent error calculation.\n",
    "\n",
    "    Parameters\n",
    "    ----------\n",
    "    estimated_number : float\n",
    "        The expected value after corresponding to a calculation\n",
    "    \n",
    "    actual_number : float\n",
    "        The resulting value by a calculation\n",
    "\n",
    "    Returns\n",
    "    -------\n",
    "    error_number : float\n",
    "        The percent error between the expected value and the resulting value\n",
    "    \"\"\"\n",
    "    error_number = math.fabs(((estimated_number - actual_number) / actual_number) * 100)\n",
    "    print(f\"Percent Error: {round(error_number, 4)}%\\n\")\n",
    "    x_values = []\n",
    "    \n",
    "    return error_number\n",
    "\n"
   ]
  },
  {
   "cell_type": "code",
   "execution_count": 117,
   "metadata": {},
   "outputs": [
    {
     "name": "stdout",
     "output_type": "stream",
     "text": [
      "Samples size: 100\n",
      "Actual number: 3.0\n",
      "Percent Error: 4.7198%\n",
      "\n",
      "Samples size: 1000\n",
      "Actual number: 3.084\n",
      "Percent Error: 1.8675%\n",
      "\n",
      "Samples size: 10000\n",
      "Actual number: 3.1364\n",
      "Percent Error: 0.1656%\n",
      "\n",
      "Samples size: 100000\n",
      "Actual number: 3.13776\n",
      "Percent Error: 0.1221%\n",
      "\n",
      "Samples size: 1000000\n",
      "Actual number: 3.139944\n",
      "Percent Error: 0.0525%\n",
      "\n"
     ]
    },
    {
     "data": {
      "text/plain": [
       "0.052505827804357974"
      ]
     },
     "execution_count": 117,
     "metadata": {},
     "output_type": "execute_result"
    }
   ],
   "source": [
    "# Prints the percent error\n",
    "percent_error(math.pi, monte_carlo_calculation(100))\n",
    "percent_error(math.pi, monte_carlo_calculation(1000))\n",
    "percent_error(math.pi, monte_carlo_calculation(10000))\n",
    "percent_error(math.pi, monte_carlo_calculation(100000))\n",
    "percent_error(math.pi, monte_carlo_calculation(1000000))"
   ]
  },
  {
   "cell_type": "code",
   "execution_count": 118,
   "metadata": {},
   "outputs": [],
   "source": [
    "# Code to visualize percent error based on sample size\n",
    "def percent_error_plot(x_values):\n",
    "    \"\"\"\n",
    "    Function which plots the percent errors based on the sample sizes provided with the Monte Carlo Calculation\n",
    "\n",
    "    Parameters\n",
    "    ----------\n",
    "    x_values : array of integers\n",
    "        An array of the sample sizes.\n",
    "\n",
    "    Returns\n",
    "    -------\n",
    "    boolean\n",
    "        returns True if there is at least 1 value in the array x_values.\n",
    "    \"\"\"\n",
    "    if not x_values:\n",
    "        return False\n",
    "\n",
    "    y_values = []\n",
    "    for i in x_values:\n",
    "        y_values.append(percent_error(math.pi, monte_carlo_calculation(i)))\n",
    "    \n",
    "    fig = plt.scatter(x_values, y_values)\n",
    "    plt.ylim(0, 25)\n",
    "    plt.xscale('log')\n",
    "    plt.xlabel(\"Sample Size\")\n",
    "    plt.ylabel(\"Percent Error\")\n",
    "    plt.show\n",
    "\n",
    "    return True\n",
    "    "
   ]
  },
  {
   "cell_type": "code",
   "execution_count": 119,
   "metadata": {},
   "outputs": [
    {
     "name": "stdout",
     "output_type": "stream",
     "text": [
      "Samples size: 10\n",
      "Actual number: 2.8\n",
      "Percent Error: 12.1997%\n",
      "\n",
      "Samples size: 100\n",
      "Actual number: 3.12\n",
      "Percent Error: 0.6921%\n",
      "\n",
      "Samples size: 1000\n",
      "Actual number: 3.156\n",
      "Percent Error: 0.4565%\n",
      "\n",
      "Samples size: 10000\n",
      "Actual number: 3.1656\n",
      "Percent Error: 0.7584%\n",
      "\n",
      "Samples size: 100000\n",
      "Actual number: 3.14392\n",
      "Percent Error: 0.074%\n",
      "\n",
      "Samples size: 1000000\n",
      "Actual number: 3.142844\n",
      "Percent Error: 0.0398%\n",
      "\n"
     ]
    },
    {
     "data": {
      "text/plain": [
       "True"
      ]
     },
     "execution_count": 119,
     "metadata": {},
     "output_type": "execute_result"
    },
    {
     "data": {
      "image/png": "[encoded data removed]",
      "text/plain": [
       "<Figure size 640x480 with 1 Axes>"
      ]
     },
     "metadata": {},
     "output_type": "display_data"
    }
   ],
   "source": [
    "percent_error_plot([10, 100, 1000, 10000, 100000, 1000000])"
   ]
  },
  {
   "cell_type": "markdown",
   "metadata": {},
   "source": [
    "## Code Reflection by Thomas Janas\n",
    "\n",
    "The goal of this task is to modify the Monte Carlo code and print the percent error in my pi calculation with a sample size of 10, 100, 1000, 10000, 100000, and 1000000.\n",
    "\n",
    "I altered the code to become a function called monte_carlo_calculation which takes in a float n_samples and returns the calculation. Due to the high sample sizes I am using in this task, I commented out the lines that coded the graphs with randomly generated points on the graph. Next, I decided to define a function which calculates the percent error. This function takes in the estimated number and the actual number, which then performs a calculation to return the percent error. I had written in the docstrings whic admittedly makes the code nice and easy to use. Overall, not too bad to complete.\n",
    "\n",
    "Then I decided to try to visualize my results on matplotlib by creating a function called percent_error_plot, which is where some of the difficulty with this task came from. Originally I wasn't sure how to plot the graph. Initially, I thought to use the similar method we did in class when plotting the graph from the Monte Carlo plots, however the limits were too big, and I thought it would be simpler to take use an array of x and y values and plot them on a scatter plot. I wasn't sure how to store the sample sizes and corresponding percent errors in an array, but after some time, I realized I could simplify the process by passing in an array of x_values (sample sizes) which would then call the monte_carlo_calculations and the percent_error functions within my percent_error_plot. After thinking about this more, I think I could rework the code to plot them in a similar fashion as we did in class because I had found a way to change the x-axis (sample sizes) into a logarithmic scale. If necessary, I can rework the code to develop percent errors with any other calculation (not just the monte_carlo_calculation), however calling this function with a small array of sample sizes is much easier to read and understand. I like that I was able to make the graph look nice this way. When the x-axis was still linear, the graph was difficult to understand, but after learning how to turn the graph into a logarithmic scale, I had that satisfying \"It worked!\" moment."
   ]
  }
 ],
 "metadata": {
  "kernelspec": {
   "display_name": "msse-python",
   "language": "python",
   "name": "python3"
  },
  "language_info": {
   "codemirror_mode": {
    "name": "ipython",
    "version": 3
   },
   "file_extension": ".py",
   "mimetype": "text/x-python",
   "name": "python",
   "nbconvert_exporter": "python",
   "pygments_lexer": "ipython3",
   "version": "3.11.8"
  }
 },
 "nbformat": 4,
 "nbformat_minor": 2
}
