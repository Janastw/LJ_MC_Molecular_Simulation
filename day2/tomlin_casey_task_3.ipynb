{
 "cells": [
  {
   "cell_type": "code",
   "execution_count": null,
   "metadata": {},
   "outputs": [],
   "source": [
    "import math\n",
    "\n",
    "def calculate_distance(coord1, coord2):\n",
    "    \"\"\"\n",
    "    Calculate the distance between two 3D coordinates.\n",
    "   \n",
    "    Parameters\n",
    "    ----------\n",
    "    coord1, coord2: list\n",
    "        The atomic coordinates\n",
    "    \n",
    "    Returns\n",
    "    -------\n",
    "    distance: float\n",
    "        The distance between the two points.\n",
    "    \"\"\"\n",
    "\n",
    "    dx = coord2[0]-coord1[0]\n",
    "    dy = coord2[1]-coord1[1]\n",
    "    dz = coord2[2]-coord1[2]\n",
    "\n",
    "    d = math.sqrt(math.pow(dx,2) + math.pow(dy,2) + math.pow(dz,2))\n",
    "    \n",
    "    return d\n"
   ]
  },
  {
   "cell_type": "code",
   "execution_count": null,
   "metadata": {},
   "outputs": [],
   "source": [
    "## Check your function with assert statements\n",
    "assert(calculate_distance([0,0,0],[0,0,0])) == 0\n",
    "assert(calculate_distance([1,1,1],[1,1,1])) == 0\n",
    "assert(calculate_distance([0,0,0],[1,1,1])) == math.sqrt(3)\n",
    "assert(calculate_distance([0,0,1],[0,0,0])) == 1\n",
    "assert(calculate_distance([0,1,0],[0,0,0])) == 1\n",
    "assert(calculate_distance([1,0,0],[0,0,0])) == 1"
   ]
  },
  {
   "cell_type": "markdown",
   "metadata": {},
   "source": [
    "# Task 2 \n",
    "\n",
    "## Reflection\n",
    "\n",
    "Initially, I knew what the calculation of the distance had to look like and wrote that line of code first using the most basic form of the equation. From there I decided to turn my (x2-x1) calculations into separate variables of dx, dy, dz. Then I changed the ^2 operators into math.pow() to have a more elegant looking line. My original approach for obtaining my coordinate was to try to iterate through the coord1/2 as list and add them to separate lists of x,y,z values. This turned out to be a bit too complicated for me to figure out. After that I tried to use numpy.array() to solve the problem, but with little knowledge of that function, I decided to ask for help instead. The simplest solution, and the one that we decided was best as a group, was to perform the dx, dy, dz calculations together with index operators of the coord1/2. This made the code quite easy and led to the simplest solution. \n",
    "\n",
    "## Observations\n",
    "\n",
    "dx, dy, dz take the coordinates provided by the arguments coord1 and coord2 as (x, y, z) to create the difference of the values that the distance equation will use. Since we know a 3D coordinate will always have the same formula, we can take the indices corresponding to the x's, y's, and z's of those two lists and subtract those values from each other. The distance equation is used to calculate how far the two 3D coordinates are from each other. Using the math module we can simply take our dx, dy, and dz values and square them. We then take the square root of the sum and return that distance value stored in the 'd' variable.We can take the edge cases of the function we just created to ensure that we are getting appropriate values. Here, we test simply with the origin as both points, the coordinate (1,1,1) as both points, and the difference between two separate points - the origin and the point (1,1,1). "
   ]
  },
  {
   "cell_type": "code",
   "execution_count": null,
   "metadata": {},
   "outputs": [],
   "source": []
  }
 ],
 "metadata": {
  "language_info": {
   "name": "python"
  }
 },
 "nbformat": 4,
 "nbformat_minor": 2
}
