{
 "cells": [
  {
   "cell_type": "code",
   "execution_count": 12,
   "metadata": {},
   "outputs": [],
   "source": [
    "import numpy as np\n",
    "import time\n",
    "import random\n",
    "import math\n",
    "\n",
    "def pi_calc(n_samples):\n",
    "    ''' \n",
    "    Uses a FOR loop to independently create an x and y coordinate that will be assessed whether\n",
    "    it falls inside or outside of a circle of radius 1 to contribute to an integral calulation\n",
    "    of pi.\n",
    "\n",
    "    Paramters\n",
    "    ---\n",
    "    n_samples: int\n",
    "        number of samples to probe and process\n",
    "\n",
    "    Returns\n",
    "    ---\n",
    "    pi_approx: float\n",
    "        approximate value of pi as found from an integral calculation\n",
    "    \n",
    "    '''\n",
    "    num_inside = 0\n",
    "\n",
    "    for i in range(n_samples):\n",
    "        # Generate a random point between 0 and 1 for x.\n",
    "        x = random.random()\n",
    "        # Generate a random point between 0 and 1 for y.\n",
    "        y = random.random()\n",
    "        # Calculate the radius of this point\n",
    "        r = math.sqrt(x ** 2 + y ** 2)\n",
    "        if r < 1:\n",
    "            num_inside += 1\n",
    "            \n",
    "    # Calculate pi\n",
    "    pi_approx = 4 * num_inside / n_samples\n",
    "    return pi_approx\n",
    "    \n",
    "\n",
    "def pi_calc_np(n_samples):\n",
    "    '''\n",
    "    Uses Numpy to independently create an x and y coordinate that will be assessed whether\n",
    "    it falls inside or outside of a circle of radius 1 to contribute to an integral calulation\n",
    "    of pi.\n",
    "\n",
    "    Parameters\n",
    "    ---\n",
    "    n_samples: int\n",
    "        number of samples to probe and process\n",
    "\n",
    "    Returns\n",
    "    ---\n",
    "    pi_approx: float\n",
    "        approximate value of pi as found from an integral calculation\n",
    "    \n",
    "    '''\n",
    "    \n",
    "    x_coords = np.random.random_sample(n_samples)\n",
    "    y_coords = np.random.random_sample(n_samples)\n",
    "    radius = np.sqrt(x_coords**2 + y_coords**2)\n",
    "    r_down = np.floor(radius)\n",
    "    num_inside = n_samples - r_down.sum(axis=0)      \n",
    "\n",
    "    pi_approx = 4 * num_inside / n_samples\n",
    "    return pi_approx\n",
    "\n"
   ]
  },
  {
   "cell_type": "code",
   "execution_count": 13,
   "metadata": {},
   "outputs": [
    {
     "name": "stdout",
     "output_type": "stream",
     "text": [
      "3.24\n",
      "It took the FOR loop variant of our pi approximation took 8.511543273925781e-05 seconds to run 100 samples\n"
     ]
    }
   ],
   "source": [
    "#timing of the FOR loop variant for 100 samples\n",
    "start = time.time()\n",
    "print(pi_calc(100))\n",
    "end = time.time()\n",
    "\n",
    "elapsed_time1 = end - start\n",
    "print(f\"It took the FOR loop variant of our pi approximation took {elapsed_time1} seconds to run 100 samples\")"
   ]
  },
  {
   "cell_type": "code",
   "execution_count": 14,
   "metadata": {},
   "outputs": [
    {
     "name": "stdout",
     "output_type": "stream",
     "text": [
      "2.96\n",
      "It took the Numpy variant of our pi approximation took 0.00032329559326171875 seconds to run 100 samples\n"
     ]
    }
   ],
   "source": [
    "#timing of numpy variant for 100 samples\n",
    "start = time.time()\n",
    "print(pi_calc_np(100))\n",
    "end = time.time()\n",
    "\n",
    "elapsed_time2 = end - start\n",
    "print(f\"It took the Numpy variant of our pi approximation took {elapsed_time2} seconds to run 100 samples\")"
   ]
  },
  {
   "cell_type": "code",
   "execution_count": 15,
   "metadata": {},
   "outputs": [
    {
     "name": "stdout",
     "output_type": "stream",
     "text": [
      "3.1422852\n",
      "It took the FOR loop variant of our pi approximation took 1.0611677169799805 seconds to run 1000000 samples\n"
     ]
    }
   ],
   "source": [
    "#timing of the FOR loop variant for 10000000 samples\n",
    "start = time.time()\n",
    "print(pi_calc(10000000))\n",
    "end = time.time()\n",
    "\n",
    "elapsed_time3 = end - start\n",
    "print(f\"It took the FOR loop variant of our pi approximation took {elapsed_time3} seconds to run 1000000 samples\")"
   ]
  },
  {
   "cell_type": "code",
   "execution_count": 16,
   "metadata": {},
   "outputs": [
    {
     "name": "stdout",
     "output_type": "stream",
     "text": [
      "3.1415344\n",
      "It took the Numpy variant of our pi approximation took 0.1271829605102539 seconds to run 10000000 samples\n"
     ]
    }
   ],
   "source": [
    "#timing of numpy variant for 10000000 samples\n",
    "start = time.time()\n",
    "print(pi_calc_np(10000000))\n",
    "end = time.time()\n",
    "\n",
    "elapsed_time4 = end - start\n",
    "print(f\"It took the Numpy variant of our pi approximation took {elapsed_time4} seconds to run 10000000 samples\")"
   ]
  },
  {
   "cell_type": "markdown",
   "metadata": {},
   "source": [
    "# Reflection\n",
    "## Approach\n",
    "The `FOR` loop `pi` approximation code was already given so I converted it into a callable function where the input parameter is the number of samples. Similar to that function, `Numpy` was used to create a separate function that performed the same calculation, but with using `Numpy` to immediately create all required **x** and **y** values. To simplify the function further, we converted all **radius** values to integers to sum all of the values associated with floor value of **0** (these values are all inside the circle of radius 1). The ratio of `num_inside` to `n_samples` was multiplied by **4** to create an approximation of the value of `pi`.\n",
    "\n",
    "## Observations\n",
    "The `FOR` loop variant of the code is much faster at smaller sample sizes. Though this is nice, often a large amount of sample will need to be processed to get an accurate measurement. This is where the use of `Numpy` really is useful. As we increased our sample size from **100** to **10000000**, the `FOR` loop took a drastically laonger amount of time compared to `Numpy`, approximately **8.4x** as long. As the size and complexity of the data scales up, the time savings only increase."
   ]
  },
  {
   "cell_type": "markdown",
   "metadata": {},
   "source": [
    "# Discussion of MC Modifications with Numpy\n",
    "\n",
    "We went through function by function to identify what can be converted from a `FOR` loop to a `Numpy` function. Below is a list of what we determined.\n",
    "\n",
    "* `calculate_LJ`\n",
    "    no changes necessary\n",
    "* `calculate_distance`\n",
    "    already converted in lecture\n",
    "* `calculate_total_energy`\n",
    "    the first `FOR` loop can be replaced and probably the second as well\n",
    "* `read_xyz`\n",
    "    can return a `Numpy` array at least\n",
    "* `calculate_tail_correction`\n",
    "    no changes necessary\n",
    "* `lattice_sample_config`\n",
    "    can use np to generate lattice configuration array positions to replace all `FOR` loops\n",
    "* `rand_sample_config` \n",
    "    easily can generate all coordinates of the randomly placed particles\n",
    "* `accept_or_reject`\n",
    "    no changes necessary\n",
    "* `calculate_pair_energy`\n",
    "    use `Numpy` translation vector to adjust the positions of each particle and calculate the energy change\n",
    "* `run_simulation`\n",
    "    use `Numpy` translation vector to adjust the positions of each particle\n"
   ]
  }
 ],
 "metadata": {
  "kernelspec": {
   "display_name": "msse-python",
   "language": "python",
   "name": "python3"
  },
  "language_info": {
   "codemirror_mode": {
    "name": "ipython",
    "version": 3
   },
   "file_extension": ".py",
   "mimetype": "text/x-python",
   "name": "python",
   "nbconvert_exporter": "python",
   "pygments_lexer": "ipython3",
   "version": "3.11.8"
  }
 },
 "nbformat": 4,
 "nbformat_minor": 2
}
