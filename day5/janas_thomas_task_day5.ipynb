{
 "cells": [
  {
   "cell_type": "code",
   "execution_count": 37,
   "metadata": {},
   "outputs": [],
   "source": [
    "import math\n",
    "import random\n",
    "import time\n",
    "\n",
    "start = time.time()\n",
    "\n",
    "def pi_mc(n_samples):\n",
    "    \"\"\"\n",
    "    Monte Carlo simulation to calculate the area of a circle with radius of 1\n",
    "\n",
    "    Parameters\n",
    "    ----------\n",
    "    n_samples: integer\n",
    "        Number of samples to generate\n",
    "\n",
    "    Returns\n",
    "    -------\n",
    "    my_pi: float\n",
    "        Area of a circle with radius of 1 calculated through a Monte Carlo simulation\n",
    "    \"\"\"\n",
    "\n",
    "    start = time.time()\n",
    "    # define variable for count\n",
    "    num_inside = 0\n",
    "\n",
    "    # Create a for loop for generating n_samples number of points\n",
    "    for i in range(n_samples):\n",
    "\n",
    "        # Generate a random point between 0 adn 1 for our x value\n",
    "        x = random.random()\n",
    "        \n",
    "        # Generate a random point between 0 and 1 for our y value\n",
    "        y = random.random()\n",
    "\n",
    "        # Calculate the distance of the point from the origin\n",
    "        distance = math.sqrt( x**2 + y**2)\n",
    "\n",
    "        # Increase the count if distance is less than 1.\n",
    "        if distance < 1:\n",
    "            num_inside += 1\n",
    "\n",
    "    # Calculate integral\n",
    "    integral = num_inside / n_samples\n",
    "\n",
    "    my_pi = 4 * integral\n",
    "\n",
    "    print(my_pi)\n",
    "    end = time.time()\n",
    "    print(f\"PSL duration: {end - start} with {n_samples} samples\")\n",
    "\n",
    "    return my_pi"
   ]
  },
  {
   "cell_type": "code",
   "execution_count": 31,
   "metadata": {},
   "outputs": [],
   "source": [
    "import numpy as np\n",
    "import math\n",
    "\n",
    "def pi_mc_np(n_samples):\n",
    "    \"\"\"\n",
    "    Monte Carlo simulation utilizing NumPy to calculate the area of a circle with radius of 1\n",
    "\n",
    "    Parameters\n",
    "    ----------\n",
    "    n_samples: integer\n",
    "        Number of samples to generate\n",
    "\n",
    "    Returns\n",
    "    -------\n",
    "    my_pi: float\n",
    "        Area of a circle with radius of 1 calculated through a Monte Carlo simulation\n",
    "    \"\"\"\n",
    "    start = time.time()\n",
    "    random_samples = np.random.random_sample(n_samples)\n",
    "\n",
    "    x_coords = np.random.random_sample(n_samples)\n",
    "    y_coords = np.random.random_sample(n_samples)\n",
    "\n",
    "    radius = np.sqrt((x_coords ** 2) + (y_coords ** 2))\n",
    "    radius_rounded_down = np.floor(radius)\n",
    "    radius_sum = np.sum(radius_rounded_down)\n",
    "\n",
    "    inside = n_samples - radius_sum\n",
    "\n",
    "    mc_area = inside / n_samples\n",
    "    my_pi = 4 * mc_area\n",
    "\n",
    "    print(my_pi)\n",
    "    end = time.time()\n",
    "    print(f\"Numpy duration: {end - start} with {n_samples} samples\")"
   ]
  },
  {
   "cell_type": "code",
   "execution_count": 35,
   "metadata": {},
   "outputs": [
    {
     "name": "stdout",
     "output_type": "stream",
     "text": [
      "3.188\n",
      "Numpy duration: 0.0008339881896972656 with 1000 samples\n",
      "3.128\n",
      "PSL duration: 0.0003597736358642578 with 1000 samples\n",
      "3.1408332\n",
      "Numpy duration: 0.16328692436218262 with 10000000 samples\n",
      "3.1413028\n",
      "PSL duration: 1.3501200675964355 with 10000000 samples\n"
     ]
    }
   ],
   "source": [
    "# At 1000 samples\n",
    "pi_mc_np(1000)\n",
    "pi_mc(1000)\n",
    "\n",
    "\n",
    "\n",
    "# At 10 million samples\n",
    "pi_mc_np(10000000)\n",
    "pi_mc(10000000)"
   ]
  },
  {
   "cell_type": "markdown",
   "metadata": {},
   "source": [
    "# Reflection\n",
    "\n",
    "I decided to make each of our monte carlo calculations into functions and then adjust them from there. I knew that we could make random samples using NumPy, so once we had that figured out, we needed to figure out a way to compare the values in our array to whether they are less than a radius of 1. However, we weren't quite sure how to do that, thought we did think of a method to still get the right calculations by rounding down our entire array. If we rounded all of our values down, then all of the values that would be 0 would be inside of the curve, whereas any 1's would not be. We then found inside samples to be the total samples minus the sum of the rounded down samples. After that we were able to find our area of pi with the monte carlo simulation. I'll admit that this is a pretty cool method for generating that, however I bet there is an improvement we can do just for simple clarification if anyone comes across the code. I don't think this approach is quite as intuitive, but it does the job in a cool way."
   ]
  },
  {
   "cell_type": "markdown",
   "metadata": {},
   "source": [
    "# Discussion\n",
    "\n",
    "Our team went through the Monte Carlo Simulation file we have and went through each function together to see where we could come up with improvements using NumPy. `calculate_LJ` looks like there wouldn't be much of a change we could do with NumPy. We had already made the `calculate_distance` function through this assignment, so we may try to think of more we could do, but most likely not. As for `calculate_total_energy`, at a minimum we can remove one of the for loops using a translation vector upon an array, like we had done during lecture today. There may be a way to avoid the 2nd for loop as well through these NumPy functions. `read_xyz` would have one adjustment where we return atomic_coordinates using the np.array(atomic_coordinates) so we can work with a NumPy array for any file we use. `calculate_tail_correction` does not take in any coordinates (only a sample size, box length, and cutoff) so this most likely can't be adjusted. As for `lattice_sample_config`, at first we thought as long as the function took in coordinates as a parameter, then we could adjust them with NumPy. However a function that even makes its own coordinates (like with the lattice) can also have use a NumPy array, and we are sure there is some special way to make a pretty lattice much more easily with NumPy. `accept or reject` likely won't have any changes because there aren't any coordinates used within the function. `calculate_pair_energy` can most likely remove the for loop using a translation vector as our i_particle and using math across the entire array itself. We will somehow have to adjust for the translation vector upon its own particle, which I'm sure we will figure out. As for `run simulation` we can use NumPy to generate a random displacement and use that similarly as a NumPy translation vector again. Overall, it seems like there are big improvements that we can make here.\n"
   ]
  }
 ],
 "metadata": {
  "kernelspec": {
   "display_name": "msse-python",
   "language": "python",
   "name": "python3"
  },
  "language_info": {
   "codemirror_mode": {
    "name": "ipython",
    "version": 3
   },
   "file_extension": ".py",
   "mimetype": "text/x-python",
   "name": "python",
   "nbconvert_exporter": "python",
   "pygments_lexer": "ipython3",
   "version": "3.11.8"
  }
 },
 "nbformat": 4,
 "nbformat_minor": 2
}
