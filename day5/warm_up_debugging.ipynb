{
 "cells": [
  {
   "cell_type": "code",
   "execution_count": null,
   "metadata": {},
   "outputs": [],
   "source": [
    "def calculate_average(numbers):\n",
    "    if not numbers:\n",
    "        return 0\n",
    "\n",
    "    total = sum(numbers)\n",
    "    count = len(numbers)\n",
    "    average = total / count\n",
    "    return average\n",
    "\n",
    "data = [10, 20, 30, 40, 50]\n",
    "print(\"Average of data:\", calculate_average(data))\n",
    "\n",
    "empty_data = []\n",
    "print(\"Average of empty_data:\", calculate_average(empty_data))"
   ]
  },
  {
   "cell_type": "code",
   "execution_count": 10,
   "metadata": {},
   "outputs": [
    {
     "ename": "IndexError",
     "evalue": "list index out of range",
     "output_type": "error",
     "traceback": [
      "\u001b[0;31m---------------------------------------------------------------------------\u001b[0m",
      "\u001b[0;31mIndexError\u001b[0m                                Traceback (most recent call last)",
      "Cell \u001b[0;32mIn[10], line 9\u001b[0m\n\u001b[1;32m      6\u001b[0m     \u001b[38;5;28;01mreturn\u001b[39;00m max_number\n\u001b[1;32m      8\u001b[0m numbers \u001b[38;5;241m=\u001b[39m [\u001b[38;5;241m3\u001b[39m, \u001b[38;5;241m5\u001b[39m, \u001b[38;5;241m7\u001b[39m, \u001b[38;5;241m2\u001b[39m, \u001b[38;5;241m8\u001b[39m]\n\u001b[0;32m----> 9\u001b[0m \u001b[38;5;28mprint\u001b[39m(\u001b[43mfind_max\u001b[49m\u001b[43m(\u001b[49m\u001b[43mnumbers\u001b[49m\u001b[43m)\u001b[49m)\n",
      "Cell \u001b[0;32mIn[10], line 4\u001b[0m, in \u001b[0;36mfind_max\u001b[0;34m(numbers)\u001b[0m\n\u001b[1;32m      2\u001b[0m max_number \u001b[38;5;241m=\u001b[39m numbers[\u001b[38;5;241m0\u001b[39m]\n\u001b[1;32m      3\u001b[0m \u001b[38;5;28;01mfor\u001b[39;00m i \u001b[38;5;129;01min\u001b[39;00m \u001b[38;5;28mrange\u001b[39m(\u001b[38;5;241m1\u001b[39m, \u001b[38;5;28mlen\u001b[39m(numbers) \u001b[38;5;241m+\u001b[39m \u001b[38;5;241m1\u001b[39m):\n\u001b[0;32m----> 4\u001b[0m     \u001b[38;5;28;01mif\u001b[39;00m \u001b[43mnumbers\u001b[49m\u001b[43m[\u001b[49m\u001b[43mi\u001b[49m\u001b[43m]\u001b[49m \u001b[38;5;241m>\u001b[39m max_number:\n\u001b[1;32m      5\u001b[0m         max_number \u001b[38;5;241m=\u001b[39m numbers[i]\n\u001b[1;32m      6\u001b[0m \u001b[38;5;28;01mreturn\u001b[39;00m max_number\n",
      "\u001b[0;31mIndexError\u001b[0m: list index out of range"
     ]
    }
   ],
   "source": [
    "def find_max(numbers):\n",
    "    max_number = numbers[0]\n",
    "    for i in range(1, len(numbers) + 1):\n",
    "        if numbers[i] > max_number:\n",
    "            max_number = numbers[i]\n",
    "    return max_number\n",
    "\n",
    "numbers = [3, 5, 7, 2, 8]\n",
    "print(find_max(numbers))"
   ]
  }
 ],
 "metadata": {
  "kernelspec": {
   "display_name": "msse-python",
   "language": "python",
   "name": "python3"
  },
  "language_info": {
   "codemirror_mode": {
    "name": "ipython",
    "version": 3
   },
   "file_extension": ".py",
   "mimetype": "text/x-python",
   "name": "python",
   "nbconvert_exporter": "python",
   "pygments_lexer": "ipython3",
   "version": "3.11.8"
  }
 },
 "nbformat": 4,
 "nbformat_minor": 2
}
