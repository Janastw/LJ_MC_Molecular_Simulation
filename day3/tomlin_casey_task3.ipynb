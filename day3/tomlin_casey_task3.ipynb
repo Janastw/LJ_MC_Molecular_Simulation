{
 "cells": [
  {
   "cell_type": "code",
   "execution_count": 348,
   "metadata": {},
   "outputs": [],
   "source": [
    "import math\n",
    "import matplotlib.pyplot as plt\n",
    "\n",
    "# create a function to calculate Lennard Jones interaction energy for an incremental range of distances, epsilon term and sigma term\n",
    "'''def calculate_LJ(r_min, r_max,r_inc,o,e):\n",
    "    \"\"\"\n",
    "    The Lennard Jones interation between two particles\n",
    "\n",
    "    Parameters\n",
    "    ----------\n",
    "    r_min : integer\n",
    "        The minimum r to calculate. The function will divide this value by 10.\n",
    "\n",
    "    r_max : integer\n",
    "        The maximum r to calculate. The function will divid this value by 10.\n",
    "\n",
    "    r_inc : integer\n",
    "        The incremental increase in r to run calculations. The function will divide this value by 10.\n",
    "\n",
    "    r : float\n",
    "        The distance between the two particles in reduced units\n",
    "\n",
    "    o : float\n",
    "        The distance at which the particle-particle potential enerty is zero.\n",
    "\n",
    "    e : float\n",
    "        The depth of the potential well\n",
    "\n",
    "    Returns\n",
    "    -------\n",
    "    x_values : List\n",
    "        List of distances used to run calculations\n",
    "        \n",
    "    y_values : List\n",
    "        List of the resulting values of pairwise energy between two particles in reduced units\n",
    "    \"\"\"\n",
    "    # create empty lists to store distances and pairwise energy values for plotting\n",
    "    x_values = []\n",
    "    y_values = []\n",
    "    \n",
    "    # create for loop to calculate pairwise energies over a range of distances\n",
    "    for i in range(r_min,r_max,r_inc):\n",
    "        r = i/10\n",
    "        r6_term = math.pow((o/r),6)\n",
    "        r12_term = math.pow(r6_term,2)\n",
    "        pairwise_energy = 4*e*(r12_term - r6_term)\n",
    "        \n",
    "        # append values to lists for plotting\n",
    "        x_values.append(r)\n",
    "        y_values.append(pairwise_energy)\n",
    "    return x_values, y_values'''\n",
    "\n",
    "def calculate_LJ(r_ij):\n",
    "    r6_term = math.pow(1/r_ij, 6)\n",
    "    r12_term = math.pow(r6_term, 2)\n",
    "    \n",
    "    pairwise_energy = 4 * (r12_term - r6_term)\n",
    "    \n",
    "    return pairwise_energy\n",
    "\n",
    "\n",
    "def calculate_distance(coord1, coord2):\n",
    "    \"\"\"\n",
    "    Calculate the distance between two 3D coordinates.\n",
    "   \n",
    "    Parameters\n",
    "    ----------\n",
    "    coord1, coord2: list\n",
    "        The atomic coordinates\n",
    "    \n",
    "    Returns\n",
    "    -------\n",
    "    distance: float\n",
    "        The distance between the two points.\n",
    "    \"\"\"\n",
    "\n",
    "    dx = coord2[0]-coord1[0]\n",
    "    dy = coord2[1]-coord1[1]\n",
    "    dz = coord2[2]-coord1[2]\n",
    "\n",
    "    d = math.sqrt(math.pow(dx,2) + math.pow(dy,2) + math.pow(dz,2))\n",
    "    \n",
    "    return d\n",
    "\n",
    "def calculate_total_energy(coordinates, cutoff):\n",
    "    \"\"\"\n",
    "    Calculate the total Lennard Jones energy of a system of particles.\n",
    "\n",
    "    Parameters\n",
    "    ----------\n",
    "    coordinates : list\n",
    "        Nested list containing particle coordinates.\n",
    "    cutoff : float\n",
    "        The cut-off distance.\n",
    "\n",
    "    Returns\n",
    "    -------\n",
    "    total_energy : float\n",
    "        The total pairwise Lennard Jones energy of the system of particles.\n",
    "    \"\"\"\n",
    "\n",
    "    total_energy = 0\n",
    "\n",
    "    num_atoms = len(coordinates)\n",
    "\n",
    "    for i in range(num_atoms):\n",
    "        for j in range(i + 1, num_atoms):\n",
    "\n",
    "            dist_ij = calculate_distance(\n",
    "                coordinates[i], coordinates[j]\n",
    "            )\n",
    "\n",
    "            if dist_ij < cutoff:\n",
    "                interaction_energy = calculate_LJ(dist_ij)\n",
    "                total_energy += interaction_energy\n",
    "\n",
    "    return total_energy"
   ]
  },
  {
   "cell_type": "code",
   "execution_count": 349,
   "metadata": {},
   "outputs": [
    {
     "name": "stdout",
     "output_type": "stream",
     "text": [
      "[[0, -1.122462048309373, 0], [0, 0, 0], [0, 1.122462048309373, 0]]\n"
     ]
    }
   ],
   "source": [
    "atom1 = [0,-math.pow(2,(1/6)),0]\n",
    "atom2 = [0,0,0]\n",
    "atom3 = [0,math.pow(2,(1/6)),0]\n",
    "\n",
    "coordinates = [atom1,atom2,atom3]\n",
    "print(coordinates)\n"
   ]
  },
  {
   "cell_type": "code",
   "execution_count": 350,
   "metadata": {},
   "outputs": [
    {
     "name": "stdout",
     "output_type": "stream",
     "text": [
      "-2.031005859375\n"
     ]
    }
   ],
   "source": [
    "total_energy = 0\n",
    "num_atoms = len(coordinates)\n",
    "\n",
    "for i in range(num_atoms):\n",
    "    for j in range(i+1, num_atoms):\n",
    "        particle_i = coordinates[i]\n",
    "        particle_j = coordinates[j]\n",
    "\n",
    "        dist_ij = calculate_distance(particle_i, particle_j)\n",
    "        total_energy += calculate_LJ(dist_ij)\n",
    "\n",
    "        \n",
    "print(total_energy)"
   ]
  },
  {
   "cell_type": "code",
   "execution_count": 351,
   "metadata": {},
   "outputs": [
    {
     "name": "stdout",
     "output_type": "stream",
     "text": [
      "-2.031005859375\n"
     ]
    }
   ],
   "source": [
    "test_energy = calc_total_energy(coordinates)\n",
    "print(test_energy)"
   ]
  },
  {
   "cell_type": "code",
   "execution_count": 352,
   "metadata": {},
   "outputs": [],
   "source": [
    "assert math.isclose(test_energy, -2, rel_tol=0.05)"
   ]
  },
  {
   "cell_type": "markdown",
   "metadata": {},
   "source": [
    "## Checking a larger system of particles"
   ]
  },
  {
   "cell_type": "code",
   "execution_count": 353,
   "metadata": {},
   "outputs": [],
   "source": [
    "# Provided function\n",
    "\n",
    "def read_xyz(filepath):\n",
    "    \"\"\"\n",
    "    Reads coordinates from an xyz file.\n",
    "    \n",
    "    Parameters\n",
    "    ----------\n",
    "    filepath : str\n",
    "       The path to the xyz file to be processed.\n",
    "       \n",
    "    Returns\n",
    "    -------\n",
    "    atomic_coordinates : list\n",
    "        A two dimensional list containing atomic coordinates\n",
    "    \"\"\"\n",
    "    \n",
    "    with open(filepath) as f:\n",
    "        box_length = float(f.readline().split()[0])\n",
    "        num_atoms = float(f.readline())\n",
    "        coordinates = f.readlines()\n",
    "    \n",
    "    atomic_coordinates = []\n",
    "    \n",
    "    for atom in coordinates:\n",
    "        split_atoms = atom.split()\n",
    "        \n",
    "        float_coords = []\n",
    "        \n",
    "        # We split this way to get rid of the atom label.\n",
    "        for coord in split_atoms[1:]:\n",
    "            float_coords.append(float(coord))\n",
    "            \n",
    "        atomic_coordinates.append(float_coords)\n",
    "        \n",
    "    \n",
    "    return atomic_coordinates, box_length\n"
   ]
  },
  {
   "cell_type": "code",
   "execution_count": 354,
   "metadata": {},
   "outputs": [],
   "source": [
    "config1_file = \"../data/sample_config1.txt\"\n",
    "\n",
    "sample_coords, box_length = read_xyz(config1_file)\n"
   ]
  },
  {
   "cell_type": "code",
   "execution_count": 355,
   "metadata": {},
   "outputs": [
    {
     "name": "stdout",
     "output_type": "stream",
     "text": [
      "/home/ctomlin/chem_280/group-repository-sodium/day3\n"
     ]
    }
   ],
   "source": [
    "!pwd"
   ]
  },
  {
   "cell_type": "code",
   "execution_count": 356,
   "metadata": {},
   "outputs": [
    {
     "data": {
      "text/plain": [
       "800"
      ]
     },
     "execution_count": 356,
     "metadata": {},
     "output_type": "execute_result"
    }
   ],
   "source": [
    "len(sample_coords)"
   ]
  },
  {
   "cell_type": "code",
   "execution_count": 357,
   "metadata": {},
   "outputs": [
    {
     "data": {
      "text/plain": [
       "10.0"
      ]
     },
     "execution_count": 357,
     "metadata": {},
     "output_type": "execute_result"
    }
   ],
   "source": [
    "box_length"
   ]
  },
  {
   "cell_type": "code",
   "execution_count": 358,
   "metadata": {},
   "outputs": [
    {
     "name": "stdout",
     "output_type": "stream",
     "text": [
      "-3487.454232861954\n"
     ]
    }
   ],
   "source": [
    "sample_energy = calculate_total_energy(sample_coords, 3)\n",
    "print(sample_energy)"
   ]
  },
  {
   "cell_type": "code",
   "execution_count": 359,
   "metadata": {},
   "outputs": [
    {
     "data": {
      "text/plain": [
       "'assert sample_energy == -4351.5'"
      ]
     },
     "execution_count": 359,
     "metadata": {},
     "output_type": "execute_result"
    }
   ],
   "source": [
    "'''assert sample_energy == -4351.5'''"
   ]
  },
  {
   "cell_type": "markdown",
   "metadata": {},
   "source": [
    "## Discussion Questions\n",
    "\n",
    "1. nCr where n=number of particles r=2 representing a particle-particle interaction. This leads to a combinatorial explosion of interactions to take into account.\n",
    "2C2 = 1\n",
    "3C2 = 3\n",
    "4C2 = 6\n",
    "5C2 = 10\n",
    "10C2 = 45\n",
    "100C2 = 4950\n",
    "By modifying a cutoff of 3sigma, we notice a slight increase in our total energy from -3487.45 to -3582.23. This increase still does not achieve the target of -4351.5\n",
    "This cutoff does work, but does not meaningfully get us closer to the number we are aiming for.\n",
    "\n",
    "2. Using a cutoff does decrease the amount of calculations that will need to be made which saves time and resources. Since the number of calculations scales exponentially\n",
    "with sample number, the compute time is drastically decreased. This does, however, limit the fidelity of the results since those calculations are skipped over. \n",
    "This is often rectified with a tail correction equation that estimates what those interactions might have added.\n",
    "\n",
    "3. \n",
    "\t1. The maximum distance (sigma) = 5*sqrt(3) = ~8.66\n",
    "\tThe farthest coordinates away any particle can be from another in a box defined by periodic boundaries is (5,5,5) given that the other particle's location is defined \n",
    "\tby (0,0,0).\n",
    "\t2. The actual distance of the example ((0,0,0),(0,0,8)) with a box_length of 10 would be 2sigma since the periodic boundary allows for the interaction from the physical \n",
    "\topposite side of the box. "
   ]
  },
  {
   "cell_type": "code",
   "execution_count": 360,
   "metadata": {},
   "outputs": [],
   "source": [
    "def calculate_tail_correction(box_length, n_particles, cutoff):\n",
    "    '''\n",
    "    Calculates the tail correction to the internal energy found through the Lennard Jones Equation.\n",
    "    \n",
    "    Parameters\n",
    "    ----------\n",
    "    box_length : float\n",
    "        length of the sides of the box created for the simulation\n",
    "    n_particles : int\n",
    "        number of particles created for the simulation\n",
    "    cutoff : float\n",
    "        cut-off distance\n",
    "       \n",
    "    Returns\n",
    "    -------\n",
    "    U_lrc : float\n",
    "        this is the number corresponding with the energy of the particles outside of the defined cut-off limit    \n",
    "    '''\n",
    "\n",
    "    volume_of_box = math.pow((box_length),3)\n",
    "    rc3_term = math.pow((1/cutoff),3)\n",
    "    rc9_term = math.pow((rc3_term),3)\n",
    "    inside_term = (((1/3)*rc9_term)-rc3_term)\n",
    "    U_lrc = (8*math.pi*math.pow((n_particles),2)/(3*volume_of_box))*inside_term\n",
    "    return U_lrc"
   ]
  },
  {
   "cell_type": "code",
   "execution_count": 361,
   "metadata": {},
   "outputs": [
    {
     "data": {
      "text/plain": [
       "-198.4888837441566"
      ]
     },
     "execution_count": 361,
     "metadata": {},
     "output_type": "execute_result"
    }
   ],
   "source": [
    "calculate_tail_correction(box_length, len(sample_coords), cutoff=3)"
   ]
  },
  {
   "cell_type": "code",
   "execution_count": 362,
   "metadata": {},
   "outputs": [],
   "source": [
    "assert math.isclose(calculate_tail_correction(box_length, len(sample_coords), cutoff=3), -198.49, rel_tol=0.05) \n",
    "assert math.isclose(calculate_tail_correction(box_length, len(sample_coords), cutoff=4), -83.769, rel_tol=0.05) "
   ]
  },
  {
   "cell_type": "markdown",
   "metadata": {},
   "source": [
    "# Reflection\n",
    "\n",
    "## Approach\n",
    "I started by writing out all the elements of the equation and the important details of the task focusing on items I hadn't seen before. Then I started piecing together the elements of the code that were necessary, starting with the easiest elements. Once I had everything written in parts I put them together in a haphazard function on paper to then translate it into my Jupyterlab Notebook. This made the process really seamless to me because there was little chance of putting the code together incorrectly. After that had all been settled I started running the code to troubleshoot any errors of which the main one was a misunderstanding of the equation; the solution was just to move a pair of parentheses.  \n",
    "\n",
    "## Observations\n",
    "Overall, the task was not too difficult and the appropriate result was achieved. This tail correction equation can be checked against the values given by the [NIST](https://www.nist.gov/mml/csd/chemical-informatics-group/lennard-jones-fluid-reference-calculations-cuboid-cell) with the combination of the `assert` and `math.isclose()` functions. I chose to use the two cut-off values of 3 and 4 to ensure the code works with the cutoff parameter being changed. All other data for parameters was acquired from the sample_config1.txt file. "
   ]
  }
 ],
 "metadata": {
  "kernelspec": {
   "display_name": "msse-python",
   "language": "python",
   "name": "python3"
  },
  "language_info": {
   "codemirror_mode": {
    "name": "ipython",
    "version": 3
   },
   "file_extension": ".py",
   "mimetype": "text/x-python",
   "name": "python",
   "nbconvert_exporter": "python",
   "pygments_lexer": "ipython3",
   "version": "3.11.8"
  }
 },
 "nbformat": 4,
 "nbformat_minor": 2
}
