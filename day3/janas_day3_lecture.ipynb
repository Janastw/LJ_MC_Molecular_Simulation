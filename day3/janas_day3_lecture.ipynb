{
 "cells": [
  {
   "cell_type": "markdown",
   "metadata": {},
   "source": [
    "# Day 3 Lecture: Calculating the Energy of a Set of Particles"
   ]
  },
  {
   "cell_type": "code",
   "execution_count": 50,
   "metadata": {},
   "outputs": [],
   "source": [
    "import math\n",
    "\n",
    "def calculate_LJ(r_ij):\n",
    "    \"\"\"\n",
    "    The Lennard Jones interaction between two particles.\n",
    "\n",
    "    Parameters\n",
    "    -----------\n",
    "    r_ij : float\n",
    "        The distance between the two particles in reduced units.\n",
    "\n",
    "    Returns\n",
    "    -------\n",
    "    pairwise_energy : float\n",
    "        The pairwise energy between two particles in reduced units.\n",
    "    \"\"\"\n",
    "    r6_term = math.pow((1 / r_ij), 6)\n",
    "    r12_term = math.pow(r6_term, 2)\n",
    "    pairwise_energy = 4 * (r12_term - r6_term)\n",
    "    return pairwise_energy\n",
    "\n",
    "\n",
    "def calculate_distance(coord1, coord2):\n",
    "    \"\"\"\n",
    "    Calculate the distance between two 3D coordinates.\n",
    "   \n",
    "    Parameters\n",
    "    ----------\n",
    "    coord1, coord2: list\n",
    "        The atomic coordinates\n",
    "    \n",
    "    Returns\n",
    "    -------\n",
    "    distance: float\n",
    "        The distance between the two points.\n",
    "    \"\"\"\n",
    "\n",
    "    dx = coord2[0]-coord1[0]\n",
    "    dy = coord2[1]-coord1[1]\n",
    "    dz = coord2[2]-coord1[2]\n",
    "\n",
    "    d = math.sqrt(math.pow(dx,2) + math.pow(dy,2) + math.pow(dz,2))\n",
    "    \n",
    "    return d\n"
   ]
  },
  {
   "cell_type": "code",
   "execution_count": 51,
   "metadata": {},
   "outputs": [
    {
     "name": "stdout",
     "output_type": "stream",
     "text": [
      "[[0, -1.122462048309373, 0], [0, 0, 0], [0, 1.122462048309373, 0]]\n"
     ]
    }
   ],
   "source": [
    "atom1 = [0, -math.pow(2, 1/6), 0]\n",
    "atom2 = [0, 0, 0]\n",
    "atom3 = [0, math.pow(2, 1/6), 0]\n",
    "\n",
    "coordinates = [ atom1, atom2, atom3 ]\n",
    "print(coordinates)"
   ]
  },
  {
   "cell_type": "code",
   "execution_count": 52,
   "metadata": {},
   "outputs": [
    {
     "name": "stdout",
     "output_type": "stream",
     "text": [
      "-2.031005859375\n"
     ]
    }
   ],
   "source": [
    "total_energy = 0\n",
    "num_atoms = len(coordinates)\n",
    "\n",
    "for i in range(num_atoms):\n",
    "    for j in range(i + 1, num_atoms):\n",
    "        particle_i = coordinates[i]\n",
    "        particle_j = coordinates[j]\n",
    "\n",
    "        dist_ij = calculate_distance(particle_i, particle_j)\n",
    "        total_energy += calculate_LJ(dist_ij)\n",
    "\n",
    "print(total_energy)"
   ]
  },
  {
   "cell_type": "code",
   "execution_count": 66,
   "metadata": {},
   "outputs": [],
   "source": [
    "# Exercise - move code into a function called calculate_total_energy\n",
    "\n",
    "def calculate_total_energy(coordinates):\n",
    "    \"\"\"\n",
    "    Calculates the total Lennard Jones energy of a system of particles\n",
    "\n",
    "    Parameters\n",
    "    ----------\n",
    "    coordinates : list\n",
    "        Nested list containing particle coordinates.\n",
    "    \n",
    "    Returns\n",
    "    -------\n",
    "    total_energy : float \n",
    "        The total pairwise Lennard Jones energy\n",
    "    \"\"\"\n",
    "\n",
    "    total_energy = 0\n",
    "    num_atoms = len(coordinates)\n",
    "\n",
    "    for i in range(num_atoms):\n",
    "        for j in range(i + 1, num_atoms):\n",
    "            particle_i = coordinates[i]\n",
    "            particle_j = coordinates[j]\n",
    "\n",
    "            dist_ij = calculate_distance(particle_i, particle_j)\n",
    "            total_energy += calculate_LJ(dist_ij)\n",
    "    \n",
    "            # if dist_ij < 3:\n",
    "            #     interaction_energy = calculate_LJ(dist_ij)\n",
    "            #     total_energy += interaction_energy\n",
    "\n",
    "    return total_energy"
   ]
  },
  {
   "cell_type": "code",
   "execution_count": 54,
   "metadata": {},
   "outputs": [
    {
     "name": "stdout",
     "output_type": "stream",
     "text": [
      "-4.06201171875\n"
     ]
    }
   ],
   "source": [
    "test_energy = calculate_total_energy(coordinates)\n",
    "print(test_energy)"
   ]
  },
  {
   "cell_type": "code",
   "execution_count": 55,
   "metadata": {},
   "outputs": [
    {
     "ename": "AssertionError",
     "evalue": "",
     "output_type": "error",
     "traceback": [
      "\u001b[0;31m---------------------------------------------------------------------------\u001b[0m",
      "\u001b[0;31mAssertionError\u001b[0m                            Traceback (most recent call last)",
      "Cell \u001b[0;32mIn[55], line 1\u001b[0m\n\u001b[0;32m----> 1\u001b[0m \u001b[38;5;28;01massert\u001b[39;00m math\u001b[38;5;241m.\u001b[39misclose(test_energy, \u001b[38;5;241m-\u001b[39m\u001b[38;5;241m2\u001b[39m, rel_tol \u001b[38;5;241m=\u001b[39m \u001b[38;5;241m0.05\u001b[39m)\n",
      "\u001b[0;31mAssertionError\u001b[0m: "
     ]
    }
   ],
   "source": [
    "assert math.isclose(test_energy, -2, rel_tol = 0.05)"
   ]
  },
  {
   "cell_type": "markdown",
   "metadata": {},
   "source": [
    "## Checking a Larger System of Particles"
   ]
  },
  {
   "cell_type": "code",
   "execution_count": 56,
   "metadata": {},
   "outputs": [],
   "source": [
    "def read_xyz(filepath):\n",
    "    \"\"\"\n",
    "    Reads coordinates from an xyz file.\n",
    "    \n",
    "    Parameters\n",
    "    ----------\n",
    "    filepath : str\n",
    "       The path to the xyz file to be processed.\n",
    "       \n",
    "    Returns\n",
    "    -------\n",
    "    atomic_coordinates : list\n",
    "        A two dimensional list containing atomic coordinates\n",
    "    \"\"\"\n",
    "    \n",
    "    with open(filepath) as f:\n",
    "        box_length = float(f.readline().split()[0])\n",
    "        num_atoms = float(f.readline())\n",
    "        coordinates = f.readlines()\n",
    "    \n",
    "    atomic_coordinates = []\n",
    "    \n",
    "    for atom in coordinates:\n",
    "        split_atoms = atom.split()\n",
    "        \n",
    "        float_coords = []\n",
    "        \n",
    "        # We split this way to get rid of the atom label.\n",
    "        for coord in split_atoms[1:]:\n",
    "            float_coords.append(float(coord))\n",
    "            \n",
    "        atomic_coordinates.append(float_coords)\n",
    "        \n",
    "    \n",
    "    return atomic_coordinates, box_length\n"
   ]
  },
  {
   "cell_type": "code",
   "execution_count": 57,
   "metadata": {},
   "outputs": [],
   "source": [
    "config1_file = \"../data/sample_config1.txt\"\n",
    "\n",
    "sample_coords, box_length = read_xyz(config1_file)"
   ]
  },
  {
   "cell_type": "code",
   "execution_count": 58,
   "metadata": {},
   "outputs": [
    {
     "data": {
      "text/plain": [
       "800"
      ]
     },
     "execution_count": 58,
     "metadata": {},
     "output_type": "execute_result"
    }
   ],
   "source": [
    "len(sample_coords)"
   ]
  },
  {
   "cell_type": "code",
   "execution_count": 59,
   "metadata": {},
   "outputs": [
    {
     "data": {
      "text/plain": [
       "10.0"
      ]
     },
     "execution_count": 59,
     "metadata": {},
     "output_type": "execute_result"
    }
   ],
   "source": [
    "box_length"
   ]
  },
  {
   "cell_type": "code",
   "execution_count": 67,
   "metadata": {},
   "outputs": [
    {
     "name": "stdout",
     "output_type": "stream",
     "text": [
      "-3582.239311831134\n"
     ]
    }
   ],
   "source": [
    "sample_energy = calculate_total_energy(sample_coords)\n",
    "print(sample_energy)"
   ]
  },
  {
   "cell_type": "code",
   "execution_count": 64,
   "metadata": {},
   "outputs": [
    {
     "ename": "AssertionError",
     "evalue": "",
     "output_type": "error",
     "traceback": [
      "\u001b[0;31m---------------------------------------------------------------------------\u001b[0m",
      "\u001b[0;31mAssertionError\u001b[0m                            Traceback (most recent call last)",
      "Cell \u001b[0;32mIn[64], line 1\u001b[0m\n\u001b[0;32m----> 1\u001b[0m \u001b[38;5;28;01massert\u001b[39;00m sample_energy \u001b[38;5;241m==\u001b[39m \u001b[38;5;241m-\u001b[39m\u001b[38;5;241m4351.5\u001b[39m\n",
      "\u001b[0;31mAssertionError\u001b[0m: "
     ]
    }
   ],
   "source": [
    "assert sample_energy == -4351.5"
   ]
  }
 ],
 "metadata": {
  "kernelspec": {
   "display_name": "msse-python",
   "language": "python",
   "name": "python3"
  },
  "language_info": {
   "codemirror_mode": {
    "name": "ipython",
    "version": 3
   },
   "file_extension": ".py",
   "mimetype": "text/x-python",
   "name": "python",
   "nbconvert_exporter": "python",
   "pygments_lexer": "ipython3",
   "version": "3.11.8"
  }
 },
 "nbformat": 4,
 "nbformat_minor": 2
}
