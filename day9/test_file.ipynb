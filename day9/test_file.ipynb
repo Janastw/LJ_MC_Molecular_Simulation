{
 "cells": [
  {
   "cell_type": "code",
   "execution_count": 1,
   "metadata": {},
   "outputs": [
    {
     "name": "stdout",
     "output_type": "stream",
     "text": [
      "Original list before modification: [1, 2, 3, 4, 5]\n",
      "Sliced list before modification: [2, 3, 4]\n",
      "Sliced list after modification: [99, 3, 4]\n",
      "Original list after modification: [1, 2, 3, 4, 5]\n"
     ]
    }
   ],
   "source": [
    "# Create a Python list\n",
    "original_list = [1, 2, 3, 4, 5]\n",
    "print(f\"Original list before modification: {original_list}\")\n",
    "\n",
    "# Slice the list\n",
    "sliced_list = original_list[1:4]\n",
    "print(f\"Sliced list before modification: {sliced_list}\")\n",
    "\n",
    "# Modify the sliced list\n",
    "sliced_list[0] = 99\n",
    "print(f\"Sliced list after modification: {sliced_list}\")\n",
    "\n",
    "# Check the original list to see if it was modified\n",
    "print(f\"Original list after modification: {original_list}\")"
   ]
  },
  {
   "cell_type": "code",
   "execution_count": 2,
   "metadata": {},
   "outputs": [
    {
     "name": "stdout",
     "output_type": "stream",
     "text": [
      "Original array before modification: [1 2 3 4 5]\n",
      "Sliced array before modification: [2 3 4]\n",
      "Sliced array after modification: [99  3  4]\n",
      "Original array after modification: [ 1 99  3  4  5]\n"
     ]
    }
   ],
   "source": [
    "import numpy as np\n",
    "\n",
    "# Create a NumPy array\n",
    "original_array = np.array([1, 2, 3, 4, 5])\n",
    "print(f\"Original array before modification: {original_array}\")\n",
    "\n",
    "# Slice the array\n",
    "sliced_array = original_array[1:4]\n",
    "print(f\"Sliced array before modification: {sliced_array}\")\n",
    "\n",
    "# Modify the sliced array\n",
    "sliced_array[0] = 99\n",
    "print(f\"Sliced array after modification: {sliced_array}\")\n",
    "\n",
    "# Check the original array to see if it was modified\n",
    "print(f\"Original array after modification: {original_array}\")"
   ]
  },
  {
   "cell_type": "code",
   "execution_count": 3,
   "metadata": {},
   "outputs": [
    {
     "name": "stdout",
     "output_type": "stream",
     "text": [
      "Before function call: [1, 2, 3]\n",
      "Inside function: [1, 2, 3, 42]\n",
      "After function call: [1, 2, 3, 42]\n"
     ]
    }
   ],
   "source": [
    "def append_element(lst):\n",
    "    lst.append(42)\n",
    "    print(f\"Inside function: {lst}\")\n",
    "\n",
    "my_list = [1, 2, 3]\n",
    "print(f\"Before function call: {my_list}\")\n",
    "append_element(my_list)\n",
    "print(f\"After function call: {my_list}\")"
   ]
  },
  {
   "cell_type": "code",
   "execution_count": null,
   "metadata": {},
   "outputs": [],
   "source": []
  }
 ],
 "metadata": {
  "kernelspec": {
   "display_name": "msse-python",
   "language": "python",
   "name": "python3"
  },
  "language_info": {
   "codemirror_mode": {
    "name": "ipython",
    "version": 3
   },
   "file_extension": ".py",
   "mimetype": "text/x-python",
   "name": "python",
   "nbconvert_exporter": "python",
   "pygments_lexer": "ipython3",
   "version": "3.11.8"
  }
 },
 "nbformat": 4,
 "nbformat_minor": 2
}
